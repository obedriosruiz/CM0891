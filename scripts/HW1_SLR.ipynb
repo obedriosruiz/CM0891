{
 "cells": [
  {
   "cell_type": "markdown",
   "metadata": {},
   "source": [
    "# <span style=\"color:blue\">Aprendizaje Automático</span>"
   ]
  },
  {
   "cell_type": "markdown",
   "metadata": {},
   "source": [
    "## Integrantes:\n",
    "- Daniel Roman Ramirez\n",
    "- Obed Ríos-Ruiz"
   ]
  },
  {
   "cell_type": "markdown",
   "metadata": {},
   "source": [
    "# 4. Metodología SLR \n",
    "\n",
    "# Tema :Técnicas de aprendizaje con desbalance de clases"
   ]
  },
  {
   "cell_type": "markdown",
   "metadata": {},
   "source": [
    "## Definición Metodología SLR\n",
    "\n",
    "Antes de proceder a diseñar un protocolo de  búsqueda es importante entender como se desarrolla y el para qué sirve.\n",
    "\n",
    "La metodología SLR, Systematic Literature Review por sus siglas en inglés, es un método que tiene como objetivo realizar una búsqueda exhaustiiva de estudios relevantes sobre un tema y luego de identificar y obtener los estudios, los resultados son verificados por medio de un método establecido y explícito, de esta forma al investigador da una posibilidad de replicar y verificar si se llega a la misma conclusión.\n",
    "\n",
    "En otras palabras la revisión sistemática es una metodología reproducible, auditable y sistemática para formular preguntas de investigación relevantes sobre un área temática y para buscar, seleccionar, analizar y sintetizar toda la investigación relevante, empírica o teórica, necesaria para responder dichas preguntas de investigación.\n",
    "\n",
    "Esta metodología fue desarrollada inicialmente en medicina y ciencias de la salud, posteriormente Kitchenham y Charters la adaptaron para el uso de la ingeniería de software."
   ]
  },
  {
   "cell_type": "markdown",
   "metadata": {},
   "source": [
    "# Protocolo de búsqueda\n",
    "\n",
    "1. Definición de preguntas de investigación y objetivos\n",
    "2. Definición de criterios de inclusión para la SLR\n",
    "3. Definición de criterios de exclusión para la SLR\n",
    "4. Identificación de fuentes de información, motores de búsqueda\n",
    "5. Definición de terminos de búsqueda\n",
    "6. Identificación y búsqueda de bases de datos cietíficas y extraer información significativa\n",
    "7. Evaluación de resultados\n",
    "8. Consolidación de los resultados mas sobresalientes"
   ]
  },
  {
   "cell_type": "markdown",
   "metadata": {},
   "source": [
    "# Step by Step\n",
    "\n",
    "1. Preguntas de investigación\n",
    "2. Criterios de inclusión\n",
    "3. Criterios de exclusión\n",
    "4. Bases de datos\n",
    "5. Terminos de búsqueda\n",
    "6. Fases de revisión\n",
    "7. Evaluación de calidad\n",
    "8. Trazabilidad y reporte de resultados"
   ]
  },
  {
   "cell_type": "markdown",
   "metadata": {},
   "source": [
    "##  1. Preguntas de investigación\n",
    "\n",
    "- ¿Cuantos estudios han sido publicados en años anteriores sobre Técnicas de aprendizaje con desbalance de clases?\n",
    "- ¿Cuáles son los autores mas relevantes del desarrollo de esta metodología?\n",
    "- ¿En qué áreas de la analítica se ha utilizado más esta técnica?\n",
    "- ¿Que tipo de soporte comuputacional y técnicas de aprendizaje automático han desarrollado con este método?\n",
    "- ¿Cómo y en donde han sido usados este desarrollo computacional?\n",
    "- ¿ Cuál ha sido aporte en los resultados finales en las aplicaciones?"
   ]
  },
  {
   "cell_type": "markdown",
   "metadata": {},
   "source": [
    "# 2. Criterios de inclusión\n",
    "\n",
    "- Metodología usada en casos reales\n",
    "- Técnicas, modelos, herramientas, framework\n",
    "- Soluciones propuestas que han sido aplicadas en la industria\n",
    "- Documentación escrita en inglés\n",
    "- Documentación expuesta en conferencias, eventos de analítica\n",
    "\n",
    "# 3. Criterios de Exclusión\n",
    "\n",
    "- Metodologías que no han sido aplicados en la vida real\n",
    "- Solucione propuestas que son de ejemplos creados para la academia\n",
    "- Documentación que no estén en inglés\n",
    "- Documentación que no ha sido publicada en conferencias, eventos de analítica o soportada por la academia\n",
    "\n"
   ]
  },
  {
   "cell_type": "markdown",
   "metadata": {},
   "source": [
    "# 4. Base de datos\n",
    "\n",
    "- Identificación de la fuente de datos\n",
    "- Formato de la base de datos\n",
    "- Estructuración y limpieza de la base de datos\n",
    "- No hay limite de cantidad de base de datos\n",
    "- Contenido de caracteres especiales"
   ]
  },
  {
   "cell_type": "markdown",
   "metadata": {},
   "source": [
    "# 5. Terminos de búsqueda\n",
    "\n",
    "- Diseño de arquitectura \n",
    "- Creación de bodega de datos en la nube\n",
    "- Interacción con la nube para la realización de consultas y posteriores análisis (SQL)"
   ]
  },
  {
   "cell_type": "markdown",
   "metadata": {},
   "source": [
    "# 6. Fases de revisión\n",
    "\n",
    "- Ejecución de consultas\n",
    "- Selección de descriptores/características\n",
    "- Implementación óptima de la metodología\n",
    "- Revisión de argumentos de los resultados obenidos\n",
    "- Revisión de ortografía y citas bibliográficas"
   ]
  },
  {
   "cell_type": "markdown",
   "metadata": {},
   "source": [
    "# 7. Evaluación de calidad\n",
    "\n",
    "- Lista de verificación de los aspectos mas relevantes de la metodología aplicada\n",
    "- Asignación de puntaje por cada ítem en la lista\n",
    "- Fijación de puntos de corte\n",
    "\n",
    "## Check list\n",
    "\n",
    "- ¿La metodología tiene un gran aporte para la soluciones analíticas en el mundo real?\n",
    "- ¿La metodología ha tenido una evolución de mejora a través del tiempo?\n",
    "- ¿Se econtró una metodología de desarrollo?\n",
    "- ¿Las tecnicas usadas tienen resultados óptimos?\n",
    "- ¿Se cumple el objetivo de la técnica en los resultados finales?\n",
    "- ¿ Se evidencia citas bibliográficas, investigaciones, soporte documental de la técnica?"
   ]
  },
  {
   "cell_type": "markdown",
   "metadata": {},
   "source": [
    "# 8. Trazabilidad y reporte de resultados\n",
    "\n",
    "- Se utiliza un almacenamiento en la nube con el fin de tener escalabilidad en las bases de datos\n",
    "- Se crea un sitio de desarollo en Github, allí se almacenará todo el seguimiento de lo que se trabaja\n",
    "- El desarrollo tiene escalabilidad con el fin de evitar condiciones de uso, utilizando algoritmos en python y almacenamiento en la nube\n",
    "- Documento científico donde se reportarán los resultados obtenidos y el código desarrollado.\n",
    "- Expoosición final donde se argumente los procedimientos descritos anteriormente.\n",
    "- Se crean tablas y gráficos, para tener explicaciones visuales y tener una discusión final de los resultados para que se ponga en valor las aportaciones del estudio sistemático."
   ]
  },
  {
   "cell_type": "markdown",
   "metadata": {},
   "source": []
  },
  {
   "cell_type": "markdown",
   "metadata": {},
   "source": []
  },
  {
   "cell_type": "markdown",
   "metadata": {},
   "source": []
  },
  {
   "cell_type": "markdown",
   "metadata": {},
   "source": []
  },
  {
   "cell_type": "markdown",
   "metadata": {},
   "source": []
  },
  {
   "cell_type": "markdown",
   "metadata": {},
   "source": []
  },
  {
   "cell_type": "markdown",
   "metadata": {},
   "source": []
  },
  {
   "cell_type": "markdown",
   "metadata": {},
   "source": []
  },
  {
   "cell_type": "markdown",
   "metadata": {},
   "source": []
  },
  {
   "cell_type": "markdown",
   "metadata": {},
   "source": []
  }
 ],
 "metadata": {
  "kernelspec": {
   "display_name": "Python 3",
   "language": "python",
   "name": "python3"
  },
  "language_info": {
   "codemirror_mode": {
    "name": "ipython",
    "version": 3
   },
   "file_extension": ".py",
   "mimetype": "text/x-python",
   "name": "python",
   "nbconvert_exporter": "python",
   "pygments_lexer": "ipython3",
   "version": "3.7.4"
  }
 },
 "nbformat": 4,
 "nbformat_minor": 2
}
